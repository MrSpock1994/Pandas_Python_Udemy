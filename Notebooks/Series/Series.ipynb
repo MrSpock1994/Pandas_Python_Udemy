{
 "cells": [
  {
   "cell_type": "code",
   "execution_count": 1,
   "id": "fe162036",
   "metadata": {},
   "outputs": [],
   "source": [
    "import pandas as pd"
   ]
  },
  {
   "cell_type": "markdown",
   "id": "3c818fd7",
   "metadata": {},
   "source": [
    "# Create a series object from a Python List"
   ]
  },
  {
   "cell_type": "code",
   "execution_count": 2,
   "id": "ef72d632",
   "metadata": {},
   "outputs": [
    {
     "data": {
      "text/plain": [
       "0     Chocolate\n",
       "1       Vanilla\n",
       "2    Strawberry\n",
       "3    Rum Raisin\n",
       "dtype: object"
      ]
     },
     "execution_count": 2,
     "metadata": {},
     "output_type": "execute_result"
    }
   ],
   "source": [
    "ice_cream = ['Chocolate', 'Vanilla', 'Strawberry', 'Rum Raisin']\n",
    "pd.Series(ice_cream)"
   ]
  },
  {
   "cell_type": "code",
   "execution_count": 3,
   "id": "3d49210d",
   "metadata": {},
   "outputs": [
    {
     "data": {
      "text/plain": [
       "0     4\n",
       "1     8\n",
       "2    15\n",
       "3    16\n",
       "4    23\n",
       "5    42\n",
       "dtype: int64"
      ]
     },
     "execution_count": 3,
     "metadata": {},
     "output_type": "execute_result"
    }
   ],
   "source": [
    "lottery = [4, 8, 15, 16, 23, 42]\n",
    "pd.Series(lottery)"
   ]
  },
  {
   "cell_type": "code",
   "execution_count": 4,
   "id": "763e9bbd",
   "metadata": {},
   "outputs": [
    {
     "data": {
      "text/plain": [
       "0     True\n",
       "1    False\n",
       "2    False\n",
       "3    False\n",
       "4     True\n",
       "dtype: bool"
      ]
     },
     "execution_count": 4,
     "metadata": {},
     "output_type": "execute_result"
    }
   ],
   "source": [
    "registrations = [True, False, False, False, True]\n",
    "pd.Series(registrations)"
   ]
  },
  {
   "cell_type": "markdown",
   "id": "27d25f4a",
   "metadata": {},
   "source": [
    "# Create a series Object from a Dictionary"
   ]
  },
  {
   "cell_type": "code",
   "execution_count": 5,
   "id": "4fc948be",
   "metadata": {},
   "outputs": [
    {
     "data": {
      "text/plain": [
       "Aardvark            An animal\n",
       "Banana      A delicious fruit\n",
       "Cyan                  A color\n",
       "dtype: object"
      ]
     },
     "execution_count": 5,
     "metadata": {},
     "output_type": "execute_result"
    }
   ],
   "source": [
    "webster = {\"Aardvark\" : \"An animal\", \"Banana\" : \"A delicious fruit\", \"Cyan\" : \"A color\"}\n",
    "pd.Series(webster)"
   ]
  },
  {
   "cell_type": "markdown",
   "id": "b22c8c58",
   "metadata": {},
   "source": [
    "# Intro to Attributes"
   ]
  },
  {
   "cell_type": "code",
   "execution_count": 6,
   "id": "9323d82e",
   "metadata": {},
   "outputs": [],
   "source": [
    "about_me = [\"Smart\", \"Handsome\", \"Charming\", \"Brilliant\", \"Humble\"]\n",
    "s = pd.Series(about_me)"
   ]
  },
  {
   "cell_type": "code",
   "execution_count": 7,
   "id": "bef67ad3",
   "metadata": {},
   "outputs": [
    {
     "data": {
      "text/plain": [
       "array(['Smart', 'Handsome', 'Charming', 'Brilliant', 'Humble'],\n",
       "      dtype=object)"
      ]
     },
     "execution_count": 7,
     "metadata": {},
     "output_type": "execute_result"
    }
   ],
   "source": [
    "s.values"
   ]
  },
  {
   "cell_type": "code",
   "execution_count": 8,
   "id": "7ac71b16",
   "metadata": {},
   "outputs": [
    {
     "data": {
      "text/plain": [
       "RangeIndex(start=0, stop=5, step=1)"
      ]
     },
     "execution_count": 8,
     "metadata": {},
     "output_type": "execute_result"
    }
   ],
   "source": [
    "s.index"
   ]
  },
  {
   "cell_type": "code",
   "execution_count": 9,
   "id": "0177720b",
   "metadata": {},
   "outputs": [
    {
     "data": {
      "text/plain": [
       "dtype('O')"
      ]
     },
     "execution_count": 9,
     "metadata": {},
     "output_type": "execute_result"
    }
   ],
   "source": [
    "s.dtype"
   ]
  },
  {
   "cell_type": "markdown",
   "id": "037ffdcc",
   "metadata": {},
   "source": [
    "# Intro to Methods"
   ]
  },
  {
   "cell_type": "code",
   "execution_count": 10,
   "id": "ecbdf145",
   "metadata": {},
   "outputs": [],
   "source": [
    "prices = [2.99, 4.45, 1.36]\n",
    "s = pd.Series(prices)"
   ]
  },
  {
   "cell_type": "code",
   "execution_count": 11,
   "id": "ce3e3bbc",
   "metadata": {},
   "outputs": [
    {
     "data": {
      "text/plain": [
       "8.8"
      ]
     },
     "execution_count": 11,
     "metadata": {},
     "output_type": "execute_result"
    }
   ],
   "source": [
    "s.sum()"
   ]
  },
  {
   "cell_type": "code",
   "execution_count": 12,
   "id": "5788cb0a",
   "metadata": {},
   "outputs": [
    {
     "data": {
      "text/plain": [
       "18.095480000000006"
      ]
     },
     "execution_count": 12,
     "metadata": {},
     "output_type": "execute_result"
    }
   ],
   "source": [
    "s.product()"
   ]
  },
  {
   "cell_type": "code",
   "execution_count": 13,
   "id": "175cb3e9",
   "metadata": {},
   "outputs": [
    {
     "data": {
      "text/plain": [
       "2.9333333333333336"
      ]
     },
     "execution_count": 13,
     "metadata": {},
     "output_type": "execute_result"
    }
   ],
   "source": [
    "s.mean()"
   ]
  },
  {
   "cell_type": "markdown",
   "id": "446bc62b",
   "metadata": {},
   "source": [
    "# Parameters and Arguments"
   ]
  },
  {
   "cell_type": "code",
   "execution_count": 14,
   "id": "1c3b642c",
   "metadata": {},
   "outputs": [
    {
     "data": {
      "text/plain": [
       "Monday            Apple\n",
       "Tuesday          Orange\n",
       "Wednesday          Plum\n",
       "Thursday          Grape\n",
       "Friday        Blueberry\n",
       "Monday       Watermelon\n",
       "dtype: object"
      ]
     },
     "execution_count": 14,
     "metadata": {},
     "output_type": "execute_result"
    }
   ],
   "source": [
    "fruits = [\"Apple\", \"Orange\", \"Plum\", \"Grape\", \"Blueberry\", \"Watermelon\"]\n",
    "weekdays = [\"Monday\", \"Tuesday\", \"Wednesday\", \"Thursday\", \"Friday\", \"Monday\"]\n",
    "pd.Series(fruits, weekdays)"
   ]
  },
  {
   "cell_type": "markdown",
   "id": "fa708bc6",
   "metadata": {},
   "source": [
    "# Import Series with read_csv Method"
   ]
  },
  {
   "cell_type": "code",
   "execution_count": 15,
   "id": "efaaa9be",
   "metadata": {},
   "outputs": [],
   "source": [
    "pokemon = pd.read_csv(r\"C:\\Users\\Willian\\Desktop\\Projects\\Pandas_study\\Data_set\\pokemon.csv\", usecols = [\"Pokemon\"], squeeze = True)"
   ]
  },
  {
   "cell_type": "code",
   "execution_count": 16,
   "id": "d5527dc8",
   "metadata": {},
   "outputs": [
    {
     "data": {
      "text/plain": [
       "0        50.12\n",
       "1        54.10\n",
       "2        54.65\n",
       "3        52.38\n",
       "4        52.95\n",
       "         ...  \n",
       "3007    772.88\n",
       "3008    771.07\n",
       "3009    773.18\n",
       "3010    771.61\n",
       "3011    782.22\n",
       "Name: Stock Price, Length: 3012, dtype: float64"
      ]
     },
     "execution_count": 16,
     "metadata": {},
     "output_type": "execute_result"
    }
   ],
   "source": [
    "\n",
    "google = pd.read_csv(r\"C:\\Users\\Willian\\Desktop\\Projects\\Pandas_study\\Data_set\\google_stock_price.csv\", squeeze = True)\n",
    "google"
   ]
  },
  {
   "cell_type": "markdown",
   "id": "7ddd768c",
   "metadata": {},
   "source": [
    "# The .head() and .tail() Methods"
   ]
  },
  {
   "cell_type": "code",
   "execution_count": 17,
   "id": "4ff1bd76",
   "metadata": {},
   "outputs": [],
   "source": [
    "pokemon = pd.read_csv(r\"C:\\Users\\Willian\\Desktop\\Projects\\Pandas_study\\Data_set\\pokemon.csv\", usecols = [\"Pokemon\"], squeeze = True)\n",
    "google = pd.read_csv(r\"C:\\Users\\Willian\\Desktop\\Projects\\Pandas_study\\Data_set\\google_stock_price.csv\", squeeze = True)\n"
   ]
  },
  {
   "cell_type": "code",
   "execution_count": 18,
   "id": "258403c2",
   "metadata": {},
   "outputs": [
    {
     "data": {
      "text/plain": [
       "0     Bulbasaur\n",
       "1       Ivysaur\n",
       "2      Venusaur\n",
       "3    Charmander\n",
       "4    Charmeleon\n",
       "Name: Pokemon, dtype: object"
      ]
     },
     "execution_count": 18,
     "metadata": {},
     "output_type": "execute_result"
    }
   ],
   "source": [
    "pokemon.head()\n",
    "# .head() returns the first 5 rows"
   ]
  },
  {
   "cell_type": "code",
   "execution_count": 19,
   "id": "b799d187",
   "metadata": {},
   "outputs": [
    {
     "data": {
      "text/plain": [
       "3007    772.88\n",
       "3008    771.07\n",
       "3009    773.18\n",
       "3010    771.61\n",
       "3011    782.22\n",
       "Name: Stock Price, dtype: float64"
      ]
     },
     "execution_count": 19,
     "metadata": {},
     "output_type": "execute_result"
    }
   ],
   "source": [
    "google.tail()\n",
    "# .tail) returns the last 5 rows"
   ]
  },
  {
   "cell_type": "markdown",
   "id": "281fe675",
   "metadata": {},
   "source": [
    "# Python Built-In Functions"
   ]
  },
  {
   "cell_type": "code",
   "execution_count": 20,
   "id": "710dc3b0",
   "metadata": {},
   "outputs": [],
   "source": [
    "pokemon = pd.read_csv(r\"C:\\Users\\Willian\\Desktop\\Projects\\Pandas_study\\Data_set\\pokemon.csv\", usecols = [\"Pokemon\"], squeeze = True)\n",
    "google = pd.read_csv(r\"C:\\Users\\Willian\\Desktop\\Projects\\Pandas_study\\Data_set\\google_stock_price.csv\", squeeze = True)\n"
   ]
  },
  {
   "cell_type": "code",
   "execution_count": 21,
   "id": "caa41d86",
   "metadata": {
    "scrolled": true
   },
   "outputs": [],
   "source": [
    "# len() return the number of rows\n",
    "# type() return the type\n",
    "# dir() return the methods\n",
    "# sorted() return ascending order\n",
    "# list() turn into a list\n",
    "# dict() turn into a dictionary\n",
    "# max() return the maximum value\n",
    "# min() return the minimum value"
   ]
  },
  {
   "cell_type": "markdown",
   "id": "b5eae0a1",
   "metadata": {},
   "source": [
    "# More Series Attributes"
   ]
  },
  {
   "cell_type": "code",
   "execution_count": 22,
   "id": "64ad3fdb",
   "metadata": {},
   "outputs": [
    {
     "data": {
      "text/plain": [
       "'Pokemon'"
      ]
     },
     "execution_count": 22,
     "metadata": {},
     "output_type": "execute_result"
    }
   ],
   "source": [
    "pokemon = pd.read_csv(r\"C:\\Users\\Willian\\Desktop\\Projects\\Pandas_study\\Data_set\\pokemon.csv\", usecols = [\"Pokemon\"], squeeze = True)\n",
    "google = pd.read_csv(r\"C:\\Users\\Willian\\Desktop\\Projects\\Pandas_study\\Data_set\\google_stock_price.csv\", squeeze = True)\n",
    "\n",
    "# .is_unique (returns True if there are no duplicate values)\n",
    "pokemon.is_unique\n",
    "# .ndim returnr the dimension size\n",
    "pokemon.ndim\n",
    "# .shape returns the number of rows, columns and etc\n",
    "pokemon.shape\n",
    "# .size returns the number os elements, it counts null numbers\n",
    "pokemon.size\n",
    "# .name returns the series name\n",
    "pokemon.name"
   ]
  },
  {
   "cell_type": "markdown",
   "id": "8c604e77",
   "metadata": {},
   "source": [
    "# The .sort_values() Method"
   ]
  },
  {
   "cell_type": "code",
   "execution_count": 23,
   "id": "c3f92e05",
   "metadata": {},
   "outputs": [
    {
     "data": {
      "text/plain": [
       "459    Abomasnow\n",
       "62          Abra\n",
       "358        Absol\n",
       "616     Accelgor\n",
       "680    Aegislash\n",
       "         ...    \n",
       "570      Zoroark\n",
       "569        Zorua\n",
       "40         Zubat\n",
       "633     Zweilous\n",
       "717      Zygarde\n",
       "Name: Pokemon, Length: 721, dtype: object"
      ]
     },
     "execution_count": 23,
     "metadata": {},
     "output_type": "execute_result"
    }
   ],
   "source": [
    "pokemon.sort_values()\n",
    "# The values are in alphabetical order, it returns a brand new series, for descending we have to modify \n",
    "# the argument, ascending = False\n"
   ]
  },
  {
   "cell_type": "markdown",
   "id": "47b2afb5",
   "metadata": {},
   "source": [
    "# The inplace Parameter"
   ]
  },
  {
   "cell_type": "code",
   "execution_count": 24,
   "id": "5938ea04",
   "metadata": {},
   "outputs": [
    {
     "data": {
      "text/plain": [
       "3011    782.22\n",
       "2859    776.60\n",
       "3009    773.18\n",
       "3007    772.88\n",
       "3010    771.61\n",
       "         ...  \n",
       "12       50.74\n",
       "10       50.70\n",
       "0        50.12\n",
       "9        50.07\n",
       "11       49.95\n",
       "Name: Stock Price, Length: 3012, dtype: float64"
      ]
     },
     "execution_count": 24,
     "metadata": {},
     "output_type": "execute_result"
    }
   ],
   "source": [
    "# We can use inplace to overwrite the initial series, its False by default\n",
    "google.sort_values(ascending = False, inplace = True)\n",
    "google"
   ]
  },
  {
   "cell_type": "markdown",
   "id": "8a124772",
   "metadata": {},
   "source": [
    "# The .sort_index() Method"
   ]
  },
  {
   "cell_type": "code",
   "execution_count": 25,
   "id": "bc95e69e",
   "metadata": {},
   "outputs": [],
   "source": [
    "# We can use sort_index to sort by the index\n"
   ]
  },
  {
   "cell_type": "code",
   "execution_count": 26,
   "id": "33824c7d",
   "metadata": {},
   "outputs": [
    {
     "data": {
      "text/plain": [
       "720     Volcanion\n",
       "719         Hoopa\n",
       "718       Diancie\n",
       "717       Zygarde\n",
       "716       Yveltal\n",
       "          ...    \n",
       "4      Charmeleon\n",
       "3      Charmander\n",
       "2        Venusaur\n",
       "1         Ivysaur\n",
       "0       Bulbasaur\n",
       "Name: Pokemon, Length: 721, dtype: object"
      ]
     },
     "execution_count": 26,
     "metadata": {},
     "output_type": "execute_result"
    }
   ],
   "source": [
    "pokemon.sort_index(ascending = False)"
   ]
  },
  {
   "cell_type": "markdown",
   "id": "2e68d154",
   "metadata": {},
   "source": [
    "# Python's in Keyword"
   ]
  },
  {
   "cell_type": "code",
   "execution_count": 27,
   "id": "c9573fc7",
   "metadata": {},
   "outputs": [
    {
     "data": {
      "text/plain": [
       "True"
      ]
     },
     "execution_count": 27,
     "metadata": {},
     "output_type": "execute_result"
    }
   ],
   "source": [
    "# we can use this to check if an element exists in a series, by default it looks in the index not the values\n",
    "\"Bulbasaur\" in pokemon.values\n",
    "100 in pokemon.index\n"
   ]
  },
  {
   "cell_type": "markdown",
   "id": "8666ce8f",
   "metadata": {},
   "source": [
    "# Extract Values by Index Position"
   ]
  },
  {
   "cell_type": "code",
   "execution_count": 28,
   "id": "a2528e44",
   "metadata": {},
   "outputs": [],
   "source": [
    "# its the same way we do with lists\n",
    "#series_name[indexnumber]"
   ]
  },
  {
   "cell_type": "markdown",
   "id": "489994b7",
   "metadata": {},
   "source": [
    "# Extract Values by Index Label"
   ]
  },
  {
   "cell_type": "code",
   "execution_count": 29,
   "id": "80d5e84c",
   "metadata": {},
   "outputs": [],
   "source": [
    "pokemon = pd.read_csv(r\"C:\\Users\\Willian\\Desktop\\Projects\\Pandas_study\\Data_set\\pokemon.csv\", index_col = \"Pokemon\", squeeze = True)"
   ]
  },
  {
   "cell_type": "code",
   "execution_count": 30,
   "id": "63129f30",
   "metadata": {},
   "outputs": [
    {
     "data": {
      "text/plain": [
       "'Grass'"
      ]
     },
     "execution_count": 30,
     "metadata": {},
     "output_type": "execute_result"
    }
   ],
   "source": [
    "pokemon[\"Bulbasaur\"]"
   ]
  },
  {
   "cell_type": "markdown",
   "id": "ad190ff4",
   "metadata": {},
   "source": [
    "# The .get() Method on a Series"
   ]
  },
  {
   "cell_type": "code",
   "execution_count": 31,
   "id": "18619b58",
   "metadata": {},
   "outputs": [
    {
     "data": {
      "text/plain": [
       "Pokemon\n",
       "Abomasnow      Grass\n",
       "Abra         Psychic\n",
       "Absol           Dark\n",
       "Accelgor         Bug\n",
       "Aegislash      Steel\n",
       "              ...   \n",
       "Zoroark         Dark\n",
       "Zorua           Dark\n",
       "Zubat         Poison\n",
       "Zweilous        Dark\n",
       "Zygarde       Dragon\n",
       "Name: Type, Length: 721, dtype: object"
      ]
     },
     "execution_count": 31,
     "metadata": {},
     "output_type": "execute_result"
    }
   ],
   "source": [
    "# The default return for a non existing key can be changed to anything we want\n",
    "pokemon.sort_index(inplace = True)\n",
    "pokemon"
   ]
  },
  {
   "cell_type": "code",
   "execution_count": 32,
   "id": "fb5a5ad8",
   "metadata": {},
   "outputs": [
    {
     "data": {
      "text/plain": [
       "'Grass'"
      ]
     },
     "execution_count": 32,
     "metadata": {},
     "output_type": "execute_result"
    }
   ],
   "source": [
    "pokemon.get(0)"
   ]
  },
  {
   "cell_type": "markdown",
   "id": "025e4f7c",
   "metadata": {},
   "source": [
    "# Math Methods on Series Objects"
   ]
  },
  {
   "cell_type": "code",
   "execution_count": 33,
   "id": "ab20b5ad",
   "metadata": {},
   "outputs": [
    {
     "data": {
      "text/plain": [
       "0    50.12\n",
       "1    54.10\n",
       "2    54.65\n",
       "Name: Stock Price, dtype: float64"
      ]
     },
     "execution_count": 33,
     "metadata": {},
     "output_type": "execute_result"
    }
   ],
   "source": [
    "google = pd.read_csv(r\"C:\\Users\\Willian\\Desktop\\Projects\\Pandas_study\\Data_set\\google_stock_price.csv\", squeeze = True)\n",
    "google.head(3)\n",
    "#.count() return the amount of values, excluding missing values\n",
    "#.sum() return the sum of all values\n",
    "#.mean() return the mean of all values\n",
    "#.std() return the standard deviation\n",
    "#.median() the number in the middle\n",
    "#.mode() most frequent occurence\n",
    "#.describe() statistical description"
   ]
  },
  {
   "cell_type": "markdown",
   "id": "3c23b661",
   "metadata": {},
   "source": [
    "# The .idxmax() and idxmin() Methods"
   ]
  },
  {
   "cell_type": "code",
   "execution_count": 34,
   "id": "f287573b",
   "metadata": {},
   "outputs": [],
   "source": [
    "# We can use idxmax() and idxmin() to find the index of the greatest and smallest value"
   ]
  },
  {
   "cell_type": "code",
   "execution_count": 35,
   "id": "92912a82",
   "metadata": {},
   "outputs": [
    {
     "data": {
      "text/plain": [
       "782.22"
      ]
     },
     "execution_count": 35,
     "metadata": {},
     "output_type": "execute_result"
    }
   ],
   "source": [
    "google.max()"
   ]
  },
  {
   "cell_type": "code",
   "execution_count": 36,
   "id": "b3eb6cfa",
   "metadata": {},
   "outputs": [
    {
     "data": {
      "text/plain": [
       "3011"
      ]
     },
     "execution_count": 36,
     "metadata": {},
     "output_type": "execute_result"
    }
   ],
   "source": [
    "google.idxmax()"
   ]
  },
  {
   "cell_type": "code",
   "execution_count": 37,
   "id": "8187982d",
   "metadata": {},
   "outputs": [
    {
     "data": {
      "text/plain": [
       "782.22"
      ]
     },
     "execution_count": 37,
     "metadata": {},
     "output_type": "execute_result"
    }
   ],
   "source": [
    "google[3011]"
   ]
  },
  {
   "cell_type": "markdown",
   "id": "df9aef05",
   "metadata": {},
   "source": [
    "# The .value_counts() method"
   ]
  },
  {
   "cell_type": "code",
   "execution_count": 38,
   "id": "944a49d5",
   "metadata": {},
   "outputs": [
    {
     "data": {
      "text/plain": [
       "Water       105\n",
       "Normal       93\n",
       "Grass        66\n",
       "Bug          63\n",
       "Psychic      47\n",
       "Fire         47\n",
       "Rock         41\n",
       "Electric     36\n",
       "Ground       30\n",
       "Dark         28\n",
       "Poison       28\n",
       "Fighting     25\n",
       "Dragon       24\n",
       "Ghost        23\n",
       "Ice          23\n",
       "Steel        22\n",
       "Fairy        17\n",
       "Flying        3\n",
       "Name: Type, dtype: int64"
      ]
     },
     "execution_count": 38,
     "metadata": {},
     "output_type": "execute_result"
    }
   ],
   "source": [
    "# We can use this to see counts of unique values within a series\n",
    "pokemon = pd.read_csv(r\"C:\\Users\\Willian\\Desktop\\Projects\\Pandas_study\\Data_set\\pokemon.csv\", index_col = \"Pokemon\", squeeze = True)\n",
    "pokemon.head(3)\n",
    "pokemon.value_counts()"
   ]
  },
  {
   "cell_type": "markdown",
   "id": "8488b2df",
   "metadata": {},
   "source": [
    "# The .apply() Method\n"
   ]
  },
  {
   "cell_type": "code",
   "execution_count": 39,
   "id": "7a06b404",
   "metadata": {},
   "outputs": [
    {
     "data": {
      "text/plain": [
       "0    50.12\n",
       "1    54.10\n",
       "2    54.65\n",
       "3    52.38\n",
       "4    52.95\n",
       "5    53.90\n",
       "Name: Stock Price, dtype: float64"
      ]
     },
     "execution_count": 39,
     "metadata": {},
     "output_type": "execute_result"
    }
   ],
   "source": [
    "# Custom operation on each of the values, we need to create a function and it applies to each of the values\n",
    "google = pd.read_csv(r\"C:\\Users\\Willian\\Desktop\\Projects\\Pandas_study\\Data_set\\google_stock_price.csv\", squeeze = True)\n",
    "google.head(6)"
   ]
  },
  {
   "cell_type": "code",
   "execution_count": 40,
   "id": "7ae48df8",
   "metadata": {},
   "outputs": [],
   "source": [
    "def classify_performance(number):\n",
    "    if number < 300:\n",
    "        return \"OK\"\n",
    "    elif number >= 300 and number < 650:\n",
    "        return \"Satisfactory\"\n",
    "    else:\n",
    "        return \"incredible!\""
   ]
  },
  {
   "cell_type": "code",
   "execution_count": 41,
   "id": "b79bca27",
   "metadata": {},
   "outputs": [
    {
     "data": {
      "text/plain": [
       "0                OK\n",
       "1                OK\n",
       "2                OK\n",
       "3                OK\n",
       "4                OK\n",
       "           ...     \n",
       "3007    incredible!\n",
       "3008    incredible!\n",
       "3009    incredible!\n",
       "3010    incredible!\n",
       "3011    incredible!\n",
       "Name: Stock Price, Length: 3012, dtype: object"
      ]
     },
     "execution_count": 41,
     "metadata": {},
     "output_type": "execute_result"
    }
   ],
   "source": [
    "google.apply(classify_performance)"
   ]
  },
  {
   "cell_type": "code",
   "execution_count": 42,
   "id": "41c2e02f",
   "metadata": {},
   "outputs": [
    {
     "data": {
      "text/plain": [
       "0        51.12\n",
       "1        55.10\n",
       "2        55.65\n",
       "3        53.38\n",
       "4        53.95\n",
       "         ...  \n",
       "3007    773.88\n",
       "3008    772.07\n",
       "3009    774.18\n",
       "3010    772.61\n",
       "3011    783.22\n",
       "Name: Stock Price, Length: 3012, dtype: float64"
      ]
     },
     "execution_count": 42,
     "metadata": {},
     "output_type": "execute_result"
    }
   ],
   "source": [
    "google.apply(lambda stock_price : stock_price + 1)"
   ]
  },
  {
   "cell_type": "markdown",
   "id": "b10c0534",
   "metadata": {},
   "source": [
    "# The .map() Method"
   ]
  },
  {
   "cell_type": "code",
   "execution_count": 43,
   "id": "1b72e0dd",
   "metadata": {},
   "outputs": [
    {
     "data": {
      "text/plain": [
       "0    Bulbasaur\n",
       "1      Ivysaur\n",
       "2     Venusaur\n",
       "Name: Pokemon, dtype: object"
      ]
     },
     "execution_count": 43,
     "metadata": {},
     "output_type": "execute_result"
    }
   ],
   "source": [
    "#it works like a vlookup\n",
    "pokemon_names = pd.read_csv(r\"C:\\Users\\Willian\\Desktop\\Projects\\Pandas_study\\Data_set\\pokemon.csv\", usecols = [\"Pokemon\"], squeeze = True)\n",
    "pokemon_names.head(3)"
   ]
  },
  {
   "cell_type": "code",
   "execution_count": 44,
   "id": "2bdb5321",
   "metadata": {},
   "outputs": [
    {
     "data": {
      "text/plain": [
       "Pokemon\n",
       "Bulbasaur    Grass\n",
       "Ivysaur      Grass\n",
       "Venusaur     Grass\n",
       "Name: Type, dtype: object"
      ]
     },
     "execution_count": 44,
     "metadata": {},
     "output_type": "execute_result"
    }
   ],
   "source": [
    "pokemon_types = pd.read_csv(r\"C:\\Users\\Willian\\Desktop\\Projects\\Pandas_study\\Data_set\\pokemon.csv\", index_col = \"Pokemon\", squeeze = True)\n",
    "pokemon_types.head(3)"
   ]
  },
  {
   "cell_type": "code",
   "execution_count": 45,
   "id": "923f9409",
   "metadata": {},
   "outputs": [
    {
     "data": {
      "text/plain": [
       "0        Grass\n",
       "1        Grass\n",
       "2        Grass\n",
       "3         Fire\n",
       "4         Fire\n",
       "        ...   \n",
       "716       Dark\n",
       "717     Dragon\n",
       "718       Rock\n",
       "719    Psychic\n",
       "720       Fire\n",
       "Name: Pokemon, Length: 721, dtype: object"
      ]
     },
     "execution_count": 45,
     "metadata": {},
     "output_type": "execute_result"
    }
   ],
   "source": [
    "pokemon_names.map(pokemon_types)"
   ]
  },
  {
   "cell_type": "code",
   "execution_count": null,
   "id": "07f82742",
   "metadata": {},
   "outputs": [],
   "source": []
  }
 ],
 "metadata": {
  "kernelspec": {
   "display_name": "Python 3",
   "language": "python",
   "name": "python3"
  },
  "language_info": {
   "codemirror_mode": {
    "name": "ipython",
    "version": 3
   },
   "file_extension": ".py",
   "mimetype": "text/x-python",
   "name": "python",
   "nbconvert_exporter": "python",
   "pygments_lexer": "ipython3",
   "version": "3.8.8"
  }
 },
 "nbformat": 4,
 "nbformat_minor": 5
}
